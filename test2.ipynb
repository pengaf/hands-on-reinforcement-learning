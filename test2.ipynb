{
 "cells": [
  {
   "cell_type": "code",
   "execution_count": 69,
   "metadata": {},
   "outputs": [
    {
     "name": "stdout",
     "output_type": "stream",
     "text": [
      "tensor(13941.4912, grad_fn=<MeanBackward0>)\n",
      "tensor(1270.7742, grad_fn=<MeanBackward0>)\n",
      "tensor(82.1013, grad_fn=<MeanBackward0>)\n",
      "tensor(2.0918, grad_fn=<MeanBackward0>)\n",
      "tensor(0.2380, grad_fn=<MeanBackward0>)\n",
      "tensor(0.2241, grad_fn=<MeanBackward0>)\n",
      "tensor(0.2241, grad_fn=<MeanBackward0>)\n",
      "tensor(0.2241, grad_fn=<MeanBackward0>)\n",
      "tensor(0.2241, grad_fn=<MeanBackward0>)\n",
      "tensor(0.2241, grad_fn=<MeanBackward0>)\n"
     ]
    },
    {
     "data": {
      "text/plain": [
       "tensor([1.3568, 2.4178], requires_grad=True)"
      ]
     },
     "execution_count": 69,
     "metadata": {},
     "output_type": "execute_result"
    }
   ],
   "source": [
    "import torch\n",
    "import math\n",
    "\n",
    "pixels1 = torch.tensor([\n",
    "    [870.0, 847.0],\n",
    "    [2135.0, 512.0],\n",
    "    [1664.0, 1015.0],\n",
    "])\n",
    "\n",
    "pixels2 = torch.tensor([\n",
    "    [997.0, 878.0],\n",
    "    [1959.0, 624.0],\n",
    "    [1601.0, 1007.0],\n",
    "])\n",
    "\n",
    "offset = torch.tensor([\n",
    "    [440.0, 442.0]\n",
    "    ])\n",
    "\n",
    "pixels1 = pixels1 - offset\n",
    "pixels2 = pixels2 - offset\n",
    "\n",
    "pixels1,pixels2\n",
    "\n",
    "def fovyToScale(degree):\n",
    "    fovy = degree*math.pi/180.0\n",
    "    aspect = 16.0/9.0\n",
    "    yScale = 1.0/math.tan(fovy*0.5)\n",
    "    xScale = yScale / aspect\n",
    "    return torch.tensor([xScale, yScale]) \n",
    "\n",
    "\n",
    "def PixelToProjection(xy):\n",
    "    wh = torch.tensor([1920.0,1080.0])\n",
    "    p = xy / wh * torch.tensor([2.0, -2.0]) +  torch.tensor([-1.0, 1.0]) \n",
    "    return p\n",
    "\n",
    "def ProjectionToPixel(xy):\n",
    "    wh = torch.tensor([1920.0,1080.0])\n",
    "    p = (xy - torch.tensor([-1.0, 1.0])) / torch.tensor([2.0, -2.0]) * wh\n",
    "    return p\n",
    "\n",
    "p1 = PixelToProjection(pixels1)\n",
    "proj1 = fovyToScale(35.0)\n",
    "v = p1 / proj1\n",
    "\n",
    "proj2 = torch.ones(2, requires_grad=True)\n",
    "#proj2 = fovyToScale(45.0)\n",
    "#yhat = ProjectionToPixel(v * proj1)\n",
    "#print(pixels1,yhat)\n",
    "\n",
    "optimizer = torch.optim.Adam([proj2], lr = 1e-2)\n",
    "\n",
    "epochs = 1000\n",
    "for epoch in range(epochs):\n",
    "    p2 = v * proj2\n",
    "    yhat = ProjectionToPixel(p2)\n",
    "    loss = torch.mean(torch.nn.functional.mse_loss(yhat, pixels2))\n",
    "    optimizer.zero_grad()\n",
    "    loss.backward()\n",
    "    optimizer.step()\n",
    "    if epoch*10 % epochs ==0:\n",
    "        print(loss)\n",
    "\n",
    "proj2"
   ]
  },
  {
   "cell_type": "code",
   "execution_count": 70,
   "metadata": {},
   "outputs": [
    {
     "data": {
      "text/plain": [
       "44.939309318876504"
      ]
     },
     "execution_count": 70,
     "metadata": {},
     "output_type": "execute_result"
    }
   ],
   "source": [
    "#xx = fovyToScale(45.0)\n",
    "math.atan(1.0/proj2[1])*2/math.pi*180"
   ]
  }
 ],
 "metadata": {
  "kernelspec": {
   "display_name": "Python 3",
   "language": "python",
   "name": "python3"
  },
  "language_info": {
   "codemirror_mode": {
    "name": "ipython",
    "version": 3
   },
   "file_extension": ".py",
   "mimetype": "text/x-python",
   "name": "python",
   "nbconvert_exporter": "python",
   "pygments_lexer": "ipython3",
   "version": "3.10.5"
  }
 },
 "nbformat": 4,
 "nbformat_minor": 2
}

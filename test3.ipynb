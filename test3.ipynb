{
 "cells": [
  {
   "cell_type": "code",
   "execution_count": 313,
   "metadata": {},
   "outputs": [
    {
     "name": "stdout",
     "output_type": "stream",
     "text": [
      "tensor(51779.9961, grad_fn=<AddBackward0>)\n",
      "tensor(923.5286, grad_fn=<AddBackward0>)\n",
      "tensor(166.7108, grad_fn=<AddBackward0>)\n",
      "tensor(47.3521, grad_fn=<AddBackward0>)\n",
      "tensor(36.7062, grad_fn=<AddBackward0>)\n",
      "tensor(36.1802, grad_fn=<AddBackward0>)\n",
      "tensor(36.1660, grad_fn=<AddBackward0>)\n",
      "tensor(36.1659, grad_fn=<AddBackward0>)\n",
      "tensor(36.1658, grad_fn=<AddBackward0>)\n",
      "tensor(36.1656, grad_fn=<AddBackward0>)\n",
      "---- tensor(36.1078, grad_fn=<MeanBackward0>) tensor(0.0577, grad_fn=<MulBackward0>) \n",
      " tensor([[ 363.2495,  821.5812],\n",
      "        [1820.9304,  409.9081],\n",
      "        [1134.0031,  957.7125]], grad_fn=<MulBackward0>) \n",
      " tensor([[ 358.,  817.],\n",
      "        [1815.,  411.],\n",
      "        [1145.,  961.]])\n"
     ]
    },
    {
     "data": {
      "text/plain": [
       "(tensor([68.0016, 46.0454], grad_fn=<MulBackward0>),\n",
       " tensor([-5.2899, -4.9899,  0.9112], grad_fn=<DivBackward0>))"
      ]
     },
     "execution_count": 313,
     "metadata": {},
     "output_type": "execute_result"
    }
   ],
   "source": [
    "import torch\n",
    "import math\n",
    "\n",
    "\n",
    "def EularAngleToMatrix(eularAngle):\n",
    "    sinEular = eularAngle.sin()\n",
    "    cosEular = eularAngle.cos()\n",
    "    matrix = torch.eye(4)\n",
    "\n",
    "    matrix[0][0] = sinEular[0] * sinEular[1] * sinEular[2] + cosEular[0] * cosEular[2]\n",
    "    matrix[0][1] = cosEular[1] * sinEular[2] \n",
    "    matrix[0][2] = cosEular[0] * sinEular[1] * sinEular[2] - sinEular[0] * cosEular[2]\n",
    "    matrix[1][0] = sinEular[0] * sinEular[1] * cosEular[2] - cosEular[0] * sinEular[2]\n",
    "    matrix[1][1] = cosEular[1] * cosEular[2] \n",
    "    matrix[1][2] = cosEular[0] * sinEular[1] * cosEular[2] + sinEular[0] * sinEular[2]\n",
    "    matrix[2][0] = sinEular[0] * cosEular[1]\n",
    "    matrix[2][1] = -sinEular[1] \n",
    "    matrix[2][2] = cosEular[0] * cosEular[1]\n",
    "    return matrix\n",
    "\n",
    "def MatrixToEularAngle(matrix):\n",
    "    eularAngle = torch.zeros(3)\n",
    "\n",
    "    sinPitch = -matrix[2][1]\n",
    "    if sinPitch <= -1.0:\n",
    "        eularAngle[1] = torch.pi * -0.5\n",
    "    elif sinPitch > 1:\n",
    "        eularAngle[1] = torch.pi * 0.5\n",
    "    else:\n",
    "        eularAngle[1] = torch.asin(sinPitch)\n",
    "\n",
    "    if torch.abs(sinPitch) >= 0.999999:\n",
    "        eularAngle[0] = torch.atan2(-matrix[0][2], matrix[0][0])\n",
    "        eularAngle[2] = 0\n",
    "    else:\n",
    "        eularAngle[0] = torch.atan2(matrix[2][0], matrix[2][2])\n",
    "        eularAngle[2] = torch.atan2(matrix[0][1], matrix[1][1])\n",
    "        if eularAngle[2] < torch.pi * -0.5 or torch.pi * 0.5 < eularAngle[2]:\n",
    "            eularAngle[1] = torch.pi - eularAngle[1]\n",
    "            eularAngle[0] = torch.atan2(-matrix[2][0], -matrix[2][2])\n",
    "            eularAngle[2] = torch.atan2(-matrix[0][1], -matrix[1][1])\n",
    "    return eularAngle\n",
    "\n",
    "viewport = torch.tensor([2648.0,1592.0])\n",
    "aspect = viewport[0]/viewport[1]\n",
    "\n",
    "def fovyToScale(degree):\n",
    "    fovy = degree*math.pi/180.0\n",
    "    yScale = 1.0/math.tan(fovy*0.5)\n",
    "    xScale = yScale / aspect\n",
    "    return torch.tensor([xScale, yScale]) \n",
    "\n",
    "\n",
    "def PixelToProjection(xy):\n",
    "    wh = viewport\n",
    "    p = xy / wh * torch.tensor([2.0, -2.0]) +  torch.tensor([-1.0, 1.0])\n",
    "    return p\n",
    "\n",
    "def ProjectionToPixel(xy):\n",
    "    wh = viewport\n",
    "    p = (xy - torch.tensor([-1.0, 1.0])) / torch.tensor([2.0, -2.0]) * wh\n",
    "    return p\n",
    "\n",
    "offset = torch.tensor([\n",
    "    [288.0, 148.0]\n",
    "    ])\n",
    "\n",
    "pixels1 = torch.tensor([\n",
    "    [602.0, 1183.0],\n",
    "    [2489.0, 656.0],\n",
    "    [1596.0, 1383.0],\n",
    "])\n",
    "\n",
    "pixels2 = torch.tensor([\n",
    "    [646.0, 965.0],\n",
    "    [2103.0, 559.0],\n",
    "    [1433.0, 1109.0],\n",
    "])\n",
    "\n",
    "pixels1 = pixels1 - offset\n",
    "pixels2 = pixels2 - offset\n",
    "pixels1,pixels2\n",
    "\n",
    "proj1 = fovyToScale(35.0)\n",
    "p1 = PixelToProjection(pixels1)\n",
    "v = torch.cat([p1 / proj1, torch.ones(p1.shape[0],1)], dim=1)\n",
    "\n",
    "'''rotation2 = torch.eye(4, requires_grad=True)\n",
    "proj2 = torch.ones(2, requires_grad=True)\n",
    "optimizer = torch.optim.Adam([rotation2, proj2], lr = 1e-2)\n",
    "epochs = 5000\n",
    "for epoch in range(epochs):\n",
    "    v2 = torch.matmul(v, rotation2[0:3,0:3])\n",
    "    p2 = v2[:,0:2] * proj2\n",
    "    yhat = ProjectionToPixel(p2) \n",
    "    loss1 = torch.nn.functional.mse_loss(yhat, pixels2).mean()\n",
    "    loss2 = torch.nn.functional.mse_loss(proj2[1]/proj2[0], aspect).mean()*10\n",
    "    #loss2 = torch.nn.functional.mse_loss(v.pow(2).sum(dim=1), v2.pow(2).sum(dim=1)).mean()\n",
    "    loss3 = torch.dot(rotation2[0],rotation2[1]).pow(2)*1\n",
    "    loss4 = torch.dot(rotation2[0],rotation2[2]).pow(2)*1\n",
    "    loss5 = torch.dot(rotation2[1],rotation2[2]).pow(2)*1\n",
    "    loss6 = torch.nn.functional.mse_loss(rotation2.pow(2).sum(dim=1), torch.ones(4)).mean()*1000\n",
    "    \n",
    "    if epoch == epochs-1:\n",
    "        print(\"----\", loss1, loss3, loss4, loss5, loss6, \"\\n\", yhat, \"\\n\", pixels2)\n",
    "    loss = loss1 + loss2 + loss3 + loss4 + loss5 + loss6\n",
    "    #print(norm0, loss)\n",
    "    optimizer.zero_grad()\n",
    "    loss.backward()\n",
    "    optimizer.step()\n",
    "    if epoch*10 % epochs ==0:\n",
    "        print(loss)\n",
    "\n",
    "print(torch.atan(1.0/proj2)*2/math.pi*180, MatrixToEularAngle(rotation2)*180/math.pi)\n",
    "eularAngle2 = MatrixToEularAngle(rotation2)\n",
    "rotation3 = EularAngleToMatrix(eularAngle2)\n",
    "v2 = torch.matmul(v, rotation3[0:3,0:3])\n",
    "p2 = v2[:,0:2] * proj2\n",
    "yhat = ProjectionToPixel(p2) \n",
    "'''\n",
    "\n",
    "\n",
    "eularAngle2 = torch.zeros(3, requires_grad=True)\n",
    "proj2 = torch.ones(2, requires_grad=True)\n",
    "optimizer = torch.optim.Adam([eularAngle2, proj2], lr = 1e-2)\n",
    "epochs = 1000\n",
    "for epoch in range(epochs):\n",
    "    rotation2 = EularAngleToMatrix(eularAngle2)\n",
    "    v2 = torch.matmul(v, rotation2[0:3,0:3])\n",
    "    p2 = v2[:,0:2] * proj2\n",
    "    yhat = ProjectionToPixel(p2) \n",
    "    loss1 = torch.nn.functional.mse_loss(yhat, pixels2).mean()\n",
    "    loss2 = torch.nn.functional.mse_loss(proj2[1]/proj2[0], aspect).mean()*10\n",
    "    \n",
    "    if epoch == epochs-1:\n",
    "        print(\"----\", loss1, loss2, \"\\n\", yhat, \"\\n\", pixels2)\n",
    "    loss = loss1 + loss2\n",
    "    optimizer.zero_grad()\n",
    "    loss.backward()\n",
    "    optimizer.step()\n",
    "    if epoch*10 % epochs ==0:\n",
    "        print(loss)\n",
    "\n",
    "torch.atan(1.0/proj2)*2/math.pi*180, eularAngle2*180/math.pi\n"
   ]
  },
  {
   "cell_type": "code",
   "execution_count": 293,
   "metadata": {},
   "outputs": [
    {
     "data": {
      "text/plain": [
       "(tensor([68.2349, 44.9136], grad_fn=<MulBackward0>),\n",
       " tensor([-5.2932, -4.9270,  0.4571], grad_fn=<DivBackward0>))"
      ]
     },
     "execution_count": 293,
     "metadata": {},
     "output_type": "execute_result"
    }
   ],
   "source": [
    "torch.atan(1.0/proj2)*2/math.pi*180, MatrixToEularAngle(rotation2)*180/math.pi"
   ]
  },
  {
   "cell_type": "code",
   "execution_count": 294,
   "metadata": {},
   "outputs": [
    {
     "data": {
      "text/plain": [
       "(tensor(1.6391, grad_fn=<DivBackward0>), tensor(1.6633))"
      ]
     },
     "execution_count": 294,
     "metadata": {},
     "output_type": "execute_result"
    }
   ],
   "source": [
    "rotation2,rotation2[0]\n",
    "#torch.dot(rotation2[1],rotation2[2]).pow(2)\n",
    "\n",
    "proj2[1]/proj2[0], aspect"
   ]
  }
 ],
 "metadata": {
  "kernelspec": {
   "display_name": "Python 3",
   "language": "python",
   "name": "python3"
  },
  "language_info": {
   "codemirror_mode": {
    "name": "ipython",
    "version": 3
   },
   "file_extension": ".py",
   "mimetype": "text/x-python",
   "name": "python",
   "nbconvert_exporter": "python",
   "pygments_lexer": "ipython3",
   "version": "3.10.5"
  }
 },
 "nbformat": 4,
 "nbformat_minor": 2
}
